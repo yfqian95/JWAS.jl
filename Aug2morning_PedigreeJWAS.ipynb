{
  "cells": [
    {
      "cell_type": "markdown",
      "metadata": {
        "id": "view-in-github",
        "colab_type": "text"
      },
      "source": [
        "<a href=\"https://colab.research.google.com/github/yfqian95/JWAS.jl/blob/master/Aug2morning_PedigreeJWAS.ipynb\" target=\"_parent\"><img src=\"https://colab.research.google.com/assets/colab-badge.svg\" alt=\"Open In Colab\"/></a>"
      ]
    },
    {
      "cell_type": "code",
      "execution_count": null,
      "metadata": {
        "colab": {
          "base_uri": "https://localhost:8080/"
        },
        "id": "GIeFXS0F0zww",
        "outputId": "bba09b90-78e0-4fcb-c345-022813ff0453"
      },
      "outputs": [
        {
          "output_type": "stream",
          "name": "stdout",
          "text": [
            "Installing Julia 1.7.1 on the current Colab Runtime...\n",
            "2022-08-01 04:12:08 URL:https://storage.googleapis.com/julialang2/bin/linux/x64/1.7/julia-1.7.1-linux-x86_64.tar.gz [123374573/123374573] -> \"/tmp/julia.tar.gz\" [1]\n",
            "Installing Julia package IJulia...\n",
            "Installing Julia package CSV...\n",
            "Installing Julia package DataFrames...\n",
            "Installing Julia package Random...\n",
            "Installing Julia package Statistics...\n",
            "Installing Julia package JWAS...\n",
            "Installing IJulia kernel...\n",
            "\u001b[36m\u001b[1m[ \u001b[22m\u001b[39m\u001b[36m\u001b[1mInfo: \u001b[22m\u001b[39mInstalling julia kernelspec in /root/.local/share/jupyter/kernels/julia-1.7\n",
            "\n",
            "Successfully installed julia version 1.7.1!\n",
            "Please reload this page (press Ctrl+R, ⌘+R, or the F5 key) then\n",
            "jump to the 'Checking the Installation' section.\n"
          ]
        },
        {
          "output_type": "execute_result",
          "data": {
            "text/plain": [
              ""
            ]
          },
          "metadata": {},
          "execution_count": 1
        }
      ],
      "source": [
        "%%shell\n",
        "set -e\n",
        "\n",
        "#---------------------------------------------------#\n",
        "JULIA_VERSION=\"1.7.1\" # any version ≥ 0.7.0\n",
        "JULIA_PACKAGES=\"IJulia CSV DataFrames Random Statistics Distributions LinearAlgebra SparseArrays Printf JWAS\"  # CSV DataFrames Random Statistics JWAS Distributions LinearAlgebra\n",
        "JULIA_PACKAGES_IF_GPU=\"\"\n",
        "JULIA_NUM_THREADS=4\n",
        "#---------------------------------------------------#\n",
        "\n",
        "if [ -n \"$COLAB_GPU\" ] && [ -z `which julia` ]; then\n",
        "  # Install Julia\n",
        "  JULIA_VER=`cut -d '.' -f -2 <<< \"$JULIA_VERSION\"`\n",
        "  echo \"Installing Julia $JULIA_VERSION on the current Colab Runtime...\"\n",
        "  BASE_URL=\"https://julialang-s3.julialang.org/bin/linux/x64\"\n",
        "  URL=\"$BASE_URL/$JULIA_VER/julia-$JULIA_VERSION-linux-x86_64.tar.gz\"\n",
        "  wget -nv $URL -O /tmp/julia.tar.gz # -nv means \"not verbose\"\n",
        "  tar -x -f /tmp/julia.tar.gz -C /usr/local --strip-components 1\n",
        "  rm /tmp/julia.tar.gz\n",
        "\n",
        "  # Install Packages\n",
        "  if [ \"$COLAB_GPU\" = \"1\" ]; then\n",
        "      JULIA_PACKAGES=\"$JULIA_PACKAGES $JULIA_PACKAGES_IF_GPU\"\n",
        "  fi\n",
        "  for PKG in `echo $JULIA_PACKAGES`; do\n",
        "    echo \"Installing Julia package $PKG...\"\n",
        "    julia -e 'using Pkg; pkg\"add '$PKG'; precompile;\"' &> /dev/null\n",
        "  done\n",
        "\n",
        "  # Install kernel and rename it to \"julia\"\n",
        "  echo \"Installing IJulia kernel...\"\n",
        "  julia -e 'using IJulia; IJulia.installkernel(\"julia\", env=Dict(\n",
        "      \"JULIA_NUM_THREADS\"=>\"'\"$JULIA_NUM_THREADS\"'\"))'\n",
        "  KERNEL_DIR=`julia -e \"using IJulia; print(IJulia.kerneldir())\"`\n",
        "  KERNEL_NAME=`ls -d \"$KERNEL_DIR\"/julia*`\n",
        "  mv -f $KERNEL_NAME \"$KERNEL_DIR\"/julia  \n",
        "\n",
        "  echo ''\n",
        "  echo \"Successfully installed `julia -v`!\"\n",
        "  echo \"Please reload this page (press Ctrl+R, ⌘+R, or the F5 key) then\"\n",
        "  echo \"jump to the 'Checking the Installation' section.\"\n",
        "fi"
      ]
    },
    {
      "cell_type": "code",
      "execution_count": 1,
      "metadata": {
        "colab": {
          "base_uri": "https://localhost:8080/"
        },
        "id": "EEzvvzCl1i0F",
        "outputId": "294d2b36-84b6-42b5-f968-b77067277181"
      },
      "outputs": [
        {
          "output_type": "stream",
          "name": "stdout",
          "text": [
            "Julia Version 1.7.1\n",
            "Commit ac5cc99908 (2021-12-22 19:35 UTC)\n",
            "Platform Info:\n",
            "  OS: Linux (x86_64-pc-linux-gnu)\n",
            "  CPU: Intel(R) Xeon(R) CPU @ 2.20GHz\n",
            "  WORD_SIZE: 64\n",
            "  LIBM: libopenlibm\n",
            "  LLVM: libLLVM-12.0.1 (ORCJIT, broadwell)\n",
            "Environment:\n",
            "  JULIA_NUM_THREADS = 4\n"
          ]
        }
      ],
      "source": [
        "versioninfo()"
      ]
    },
    {
      "cell_type": "markdown",
      "source": [
        "chapter 5 of the e-book"
      ],
      "metadata": {
        "id": "t8pwcFklULQS"
      }
    },
    {
      "cell_type": "code",
      "source": [
        "##Aug 2 afternoon\n",
        "using DataFrames, SparseArrays, LinearAlgebra\n",
        "animal= [\"animal1\",\"animal2\",\"animal3\",\"animal4\",\"animal5\",\"animal6\"]\n",
        "sex   = [\"m\",\"f\",\"f\",\"m\",\"f\",\"f\"]\n",
        "breed = [\"Angus\",\"Angus\",\"Hereford\",\"Hereford\",\"Angus\",\"Angus\"]\n",
        "age   = [40,36,38,42,40,36]\n",
        "df    = DataFrame(animal=animal,sex=sex,breed=breed,age=age,y=round.(randn(6),digits=3))"
      ],
      "metadata": {
        "id": "KGtkkOmLUNmi",
        "outputId": "04e3b53e-6a69-42cb-f78c-ec6060f804fe",
        "colab": {
          "base_uri": "https://localhost:8080/",
          "height": 216
        }
      },
      "execution_count": 3,
      "outputs": [
        {
          "output_type": "execute_result",
          "data": {
            "text/plain": [
              "\u001b[1m6×5 DataFrame\u001b[0m\n",
              "\u001b[1m Row \u001b[0m│\u001b[1m animal  \u001b[0m\u001b[1m sex    \u001b[0m\u001b[1m breed    \u001b[0m\u001b[1m age   \u001b[0m\u001b[1m y       \u001b[0m\n",
              "\u001b[1m     \u001b[0m│\u001b[90m String  \u001b[0m\u001b[90m String \u001b[0m\u001b[90m String   \u001b[0m\u001b[90m Int64 \u001b[0m\u001b[90m Float64 \u001b[0m\n",
              "─────┼───────────────────────────────────────────\n",
              "   1 │ animal1  m       Angus        40   -2.033\n",
              "   2 │ animal2  f       Angus        36   -1.558\n",
              "   3 │ animal3  f       Hereford     38   -1.001\n",
              "   4 │ animal4  m       Hereford     42   -0.367\n",
              "   5 │ animal5  f       Angus        40   -0.096\n",
              "   6 │ animal6  f       Angus        36    0.122"
            ],
            "text/html": [
              "<table class=\"data-frame\"><thead><tr><th></th><th>animal</th><th>sex</th><th>breed</th><th>age</th><th>y</th></tr><tr><th></th><th>String</th><th>String</th><th>String</th><th>Int64</th><th>Float64</th></tr></thead><tbody><p>6 rows × 5 columns</p><tr><th>1</th><td>animal1</td><td>m</td><td>Angus</td><td>40</td><td>-2.033</td></tr><tr><th>2</th><td>animal2</td><td>f</td><td>Angus</td><td>36</td><td>-1.558</td></tr><tr><th>3</th><td>animal3</td><td>f</td><td>Hereford</td><td>38</td><td>-1.001</td></tr><tr><th>4</th><td>animal4</td><td>m</td><td>Hereford</td><td>42</td><td>-0.367</td></tr><tr><th>5</th><td>animal5</td><td>f</td><td>Angus</td><td>40</td><td>-0.096</td></tr><tr><th>6</th><td>animal6</td><td>f</td><td>Angus</td><td>36</td><td>0.122</td></tr></tbody></table>"
            ],
            "text/latex": "\\begin{tabular}{r|ccccc}\n\t& animal & sex & breed & age & y\\\\\n\t\\hline\n\t& String & String & String & Int64 & Float64\\\\\n\t\\hline\n\t1 & animal1 & m & Angus & 40 & -2.033 \\\\\n\t2 & animal2 & f & Angus & 36 & -1.558 \\\\\n\t3 & animal3 & f & Hereford & 38 & -1.001 \\\\\n\t4 & animal4 & m & Hereford & 42 & -0.367 \\\\\n\t5 & animal5 & f & Angus & 40 & -0.096 \\\\\n\t6 & animal6 & f & Angus & 36 & 0.122 \\\\\n\\end{tabular}\n"
          },
          "metadata": {},
          "execution_count": 3
        }
      ]
    },
    {
      "cell_type": "code",
      "source": [
        "A=df[:,:sex]"
      ],
      "metadata": {
        "id": "C5ZPrKutZBrt",
        "outputId": "697b11cb-6007-4e37-97fc-7c60f9e71592",
        "colab": {
          "base_uri": "https://localhost:8080/"
        }
      },
      "execution_count": 4,
      "outputs": [
        {
          "output_type": "execute_result",
          "data": {
            "text/plain": [
              "6-element Vector{String}:\n",
              " \"m\"\n",
              " \"f\"\n",
              " \"f\"\n",
              " \"m\"\n",
              " \"f\"\n",
              " \"f\""
            ]
          },
          "metadata": {},
          "execution_count": 4
        }
      ]
    },
    {
      "cell_type": "code",
      "source": [
        "res = unique(A)"
      ],
      "metadata": {
        "id": "6y1oBsXlZJaZ",
        "outputId": "83b8d6cc-dd41-42da-d441-ae00b62ff350",
        "colab": {
          "base_uri": "https://localhost:8080/"
        }
      },
      "execution_count": 5,
      "outputs": [
        {
          "output_type": "execute_result",
          "data": {
            "text/plain": [
              "2-element Vector{String}:\n",
              " \"m\"\n",
              " \"f\""
            ]
          },
          "metadata": {},
          "execution_count": 5
        }
      ]
    },
    {
      "cell_type": "code",
      "source": [
        "dictA = Dict()                 # declare empty dictionary\n",
        "for (i,s) in enumerate(res)    # fill the dictionary with the values in res, this step creates the dictionary\n",
        "    dictA[s] = i\n",
        "end\n",
        "dictA"
      ],
      "metadata": {
        "id": "KnW9_RdxZKOn",
        "outputId": "f6063f67-420f-49f4-9490-3e5e482a3ad9",
        "colab": {
          "base_uri": "https://localhost:8080/"
        }
      },
      "execution_count": 6,
      "outputs": [
        {
          "output_type": "execute_result",
          "data": {
            "text/plain": [
              "Dict{Any, Any} with 2 entries:\n",
              "  \"f\" => 2\n",
              "  \"m\" => 1"
            ]
          },
          "metadata": {},
          "execution_count": 6
        }
      ]
    },
    {
      "cell_type": "code",
      "source": [
        "ii = 1:size(A,1)            # get row numbers just 1 to 6\n",
        "jj = [dictA[i] for i in A]  # get column numbers using list comprehension extract M or F \n",
        "[ii jj]"
      ],
      "metadata": {
        "id": "Q8M6hAZmZct4",
        "outputId": "116d1f42-e761-467a-e87e-69b769a408da",
        "colab": {
          "base_uri": "https://localhost:8080/"
        }
      },
      "execution_count": 7,
      "outputs": [
        {
          "output_type": "execute_result",
          "data": {
            "text/plain": [
              "6×2 Matrix{Int64}:\n",
              " 1  1\n",
              " 2  2\n",
              " 3  2\n",
              " 4  1\n",
              " 5  2\n",
              " 6  2"
            ]
          },
          "metadata": {},
          "execution_count": 7
        }
      ]
    },
    {
      "cell_type": "code",
      "source": [
        "XA   = sparse(ii,jj,1.0) #1.0 if there is same number keep puttin in 1.0"
      ],
      "metadata": {
        "id": "VcSLyldVZqIM",
        "outputId": "200cd071-3873-4368-b30b-9caf35a53859",
        "colab": {
          "base_uri": "https://localhost:8080/"
        }
      },
      "execution_count": 8,
      "outputs": [
        {
          "output_type": "execute_result",
          "data": {
            "text/plain": [
              "6×2 SparseMatrixCSC{Float64, Int64} with 6 stored entries:\n",
              " 1.0   ⋅ \n",
              "  ⋅   1.0\n",
              "  ⋅   1.0\n",
              " 1.0   ⋅ \n",
              "  ⋅   1.0\n",
              "  ⋅   1.0"
            ]
          },
          "metadata": {},
          "execution_count": 8
        }
      ]
    },
    {
      "cell_type": "code",
      "source": [
        "n = size(A,1)\n",
        "Matrix([ones(n,1) XA])"
      ],
      "metadata": {
        "id": "q5vqtc_8Z9qg",
        "outputId": "d0cd4784-03ef-4217-cd6c-e9af83bd463c",
        "colab": {
          "base_uri": "https://localhost:8080/"
        }
      },
      "execution_count": 9,
      "outputs": [
        {
          "output_type": "execute_result",
          "data": {
            "text/plain": [
              "6×3 Matrix{Float64}:\n",
              " 1.0  1.0  0.0\n",
              " 1.0  0.0  1.0\n",
              " 1.0  0.0  1.0\n",
              " 1.0  1.0  0.0\n",
              " 1.0  0.0  1.0\n",
              " 1.0  0.0  1.0"
            ]
          },
          "metadata": {},
          "execution_count": 9
        }
      ]
    },
    {
      "cell_type": "code",
      "source": [
        "# This function returns a dictionary with the unique values in the vector \"a\" as the keys and their \n",
        "# sequential numbers as the associated values\n",
        "# It also returns vector with the keys in sequential order. \n",
        "function mkDict(a)\n",
        "  aUnique = unique(a)\n",
        "  d = Dict()\n",
        "  names = Array{String}(undef,size(aUnique,1))\n",
        "  for (i,s) in enumerate(aUnique)\n",
        "    names[i] = s\n",
        "    d[s] = i\n",
        "  end\n",
        "  return d,names\n",
        "end"
      ],
      "metadata": {
        "id": "v44Ou7ORaYfm",
        "outputId": "13913610-bd34-43dc-f3f8-64c2f6f751d3",
        "colab": {
          "base_uri": "https://localhost:8080/"
        }
      },
      "execution_count": 10,
      "outputs": [
        {
          "output_type": "execute_result",
          "data": {
            "text/plain": [
              "mkDict (generic function with 1 method)"
            ]
          },
          "metadata": {},
          "execution_count": 10
        }
      ]
    },
    {
      "cell_type": "code",
      "source": [
        "dictA,namesA   = mkDict(A)"
      ],
      "metadata": {
        "id": "R050a2Kzbi6s",
        "outputId": "efd518ac-e75c-4dac-8453-f6d4d3cccc06",
        "colab": {
          "base_uri": "https://localhost:8080/"
        }
      },
      "execution_count": 11,
      "outputs": [
        {
          "output_type": "execute_result",
          "data": {
            "text/plain": [
              "(Dict{Any, Any}(\"f\" => 2, \"m\" => 1), [\"m\", \"f\"])"
            ]
          },
          "metadata": {},
          "execution_count": 11
        }
      ]
    },
    {
      "cell_type": "code",
      "source": [
        "ii = 1:size(A,1)\n",
        "jj = [dictA[i] for i in A]  #list comprehension \n",
        "[ii jj]\n",
        "XA = sparse(ii,jj,1.0)"
      ],
      "metadata": {
        "id": "lhY8G8SKbok3",
        "outputId": "0e5eadf7-4bb3-4df7-fed4-aead99eec4c4",
        "colab": {
          "base_uri": "https://localhost:8080/"
        }
      },
      "execution_count": 12,
      "outputs": [
        {
          "output_type": "execute_result",
          "data": {
            "text/plain": [
              "6×2 SparseMatrixCSC{Float64, Int64} with 6 stored entries:\n",
              " 1.0   ⋅ \n",
              "  ⋅   1.0\n",
              "  ⋅   1.0\n",
              " 1.0   ⋅ \n",
              "  ⋅   1.0\n",
              "  ⋅   1.0"
            ]
          },
          "metadata": {},
          "execution_count": 12
        }
      ]
    },
    {
      "cell_type": "code",
      "source": [
        "B = df[:,:breed]\n",
        "dictB,namesB   = mkDict(B)\n",
        "jj   = [dictB[i] for i in B]  #list comprehension \n",
        "ii   = 1:size(B,1)\n",
        "XB   = sparse(ii,jj,1.0)"
      ],
      "metadata": {
        "id": "_GbloLuBbrS0",
        "outputId": "048f8413-c8e3-4a71-97ce-5f696e19ea87",
        "colab": {
          "base_uri": "https://localhost:8080/"
        }
      },
      "execution_count": 13,
      "outputs": [
        {
          "output_type": "execute_result",
          "data": {
            "text/plain": [
              "6×2 SparseMatrixCSC{Float64, Int64} with 6 stored entries:\n",
              " 1.0   ⋅ \n",
              " 1.0   ⋅ \n",
              "  ⋅   1.0\n",
              "  ⋅   1.0\n",
              " 1.0   ⋅ \n",
              " 1.0   ⋅ "
            ]
          },
          "metadata": {},
          "execution_count": 13
        }
      ]
    },
    {
      "cell_type": "code",
      "source": [
        "CVal = df[:,:age]\n",
        "CStr = fill(\"age\",size(CVal,1))  # only one column in design matrix for age"
      ],
      "metadata": {
        "id": "utw10sHNbvnE",
        "outputId": "d3d95639-3958-4ff5-dee6-d007c020bbc0",
        "colab": {
          "base_uri": "https://localhost:8080/"
        }
      },
      "execution_count": 14,
      "outputs": [
        {
          "output_type": "execute_result",
          "data": {
            "text/plain": [
              "6-element Vector{String}:\n",
              " \"age\"\n",
              " \"age\"\n",
              " \"age\"\n",
              " \"age\"\n",
              " \"age\"\n",
              " \"age\""
            ]
          },
          "metadata": {},
          "execution_count": 14
        }
      ]
    },
    {
      "cell_type": "code",
      "source": [
        "dictC,namesC   = mkDict(CStr)\n",
        "jj   = [dictC[i] for i in CStr]  #list comprehension \n",
        "ii   = 1:size(CStr,1)\n",
        "XC   = sparse(ii,jj,CVal) #continuous variable uses value CVal"
      ],
      "metadata": {
        "id": "rrOjIS6WbzD8",
        "outputId": "5fbf7f97-7fe9-4753-90f6-49f31c658e05",
        "colab": {
          "base_uri": "https://localhost:8080/"
        }
      },
      "execution_count": 15,
      "outputs": [
        {
          "output_type": "execute_result",
          "data": {
            "text/plain": [
              "6×1 SparseMatrixCSC{Int64, Int64} with 6 stored entries:\n",
              " 40\n",
              " 36\n",
              " 38\n",
              " 42\n",
              " 40\n",
              " 36"
            ]
          },
          "metadata": {},
          "execution_count": 15
        }
      ]
    },
    {
      "cell_type": "code",
      "source": [
        "n = size(A,1)\n",
        "Matrix([ones(n,1) XA XB XC])"
      ],
      "metadata": {
        "id": "0XEXbvIqcD1E",
        "outputId": "115f4d61-01ef-49ca-da4a-91008c0d7b25",
        "colab": {
          "base_uri": "https://localhost:8080/"
        }
      },
      "execution_count": 16,
      "outputs": [
        {
          "output_type": "execute_result",
          "data": {
            "text/plain": [
              "6×6 Matrix{Float64}:\n",
              " 1.0  1.0  0.0  1.0  0.0  40.0\n",
              " 1.0  0.0  1.0  1.0  0.0  36.0\n",
              " 1.0  0.0  1.0  0.0  1.0  38.0\n",
              " 1.0  1.0  0.0  0.0  1.0  42.0\n",
              " 1.0  0.0  1.0  1.0  0.0  40.0\n",
              " 1.0  0.0  1.0  1.0  0.0  36.0"
            ]
          },
          "metadata": {},
          "execution_count": 16
        }
      ]
    },
    {
      "cell_type": "code",
      "source": [
        "[\"intercept\"; namesA; namesB; namesC]"
      ],
      "metadata": {
        "id": "K3n3kpPFcIMi",
        "outputId": "a4d43c12-5d0b-47c0-9ecd-16cbe2c110ad",
        "colab": {
          "base_uri": "https://localhost:8080/"
        }
      },
      "execution_count": 17,
      "outputs": [
        {
          "output_type": "execute_result",
          "data": {
            "text/plain": [
              "6-element Vector{String}:\n",
              " \"intercept\"\n",
              " \"m\"\n",
              " \"f\"\n",
              " \"Angus\"\n",
              " \"Hereford\"\n",
              " \"age\""
            ]
          },
          "metadata": {},
          "execution_count": 17
        }
      ]
    },
    {
      "cell_type": "code",
      "source": [
        "firstName = \"Short\"\n",
        "lastName = \" Course\"\n",
        "firstName * lastName"
      ],
      "metadata": {
        "id": "NS1wIvdqcQuI",
        "outputId": "06729d33-7c9a-4ae3-a5aa-7a3237f3a4b6",
        "colab": {
          "base_uri": "https://localhost:8080/"
        }
      },
      "execution_count": 18,
      "outputs": [
        {
          "output_type": "execute_result",
          "data": {
            "text/plain": [
              "\"Short Course\""
            ]
          },
          "metadata": {},
          "execution_count": 18
        }
      ]
    },
    {
      "cell_type": "code",
      "source": [
        "AB = A .*\" x \".*B"
      ],
      "metadata": {
        "id": "tYUSE12TcTCR",
        "outputId": "62b7b809-42d8-4469-f936-c1c774d7b477",
        "colab": {
          "base_uri": "https://localhost:8080/"
        }
      },
      "execution_count": 19,
      "outputs": [
        {
          "output_type": "execute_result",
          "data": {
            "text/plain": [
              "6-element Vector{String}:\n",
              " \"m x Angus\"\n",
              " \"f x Angus\"\n",
              " \"f x Hereford\"\n",
              " \"m x Hereford\"\n",
              " \"f x Angus\"\n",
              " \"f x Angus\""
            ]
          },
          "metadata": {},
          "execution_count": 19
        }
      ]
    },
    {
      "cell_type": "code",
      "source": [
        "dictAB,namesAB   = mkDict(AB)\n",
        "ii   = 1:size(A,1)\n",
        "jj   = [dictAB[i] for i in AB]  #list comprehension \n",
        "XAB = sparse(ii,jj,1.0)"
      ],
      "metadata": {
        "id": "D7plwFzicYbj",
        "outputId": "eb94c2d9-273e-499d-984e-702e0bbb9f61",
        "colab": {
          "base_uri": "https://localhost:8080/"
        }
      },
      "execution_count": 20,
      "outputs": [
        {
          "output_type": "execute_result",
          "data": {
            "text/plain": [
              "6×4 SparseMatrixCSC{Float64, Int64} with 6 stored entries:\n",
              " 1.0   ⋅    ⋅    ⋅ \n",
              "  ⋅   1.0   ⋅    ⋅ \n",
              "  ⋅    ⋅   1.0   ⋅ \n",
              "  ⋅    ⋅    ⋅   1.0\n",
              "  ⋅   1.0   ⋅    ⋅ \n",
              "  ⋅   1.0   ⋅    ⋅ "
            ]
          },
          "metadata": {},
          "execution_count": 20
        }
      ]
    },
    {
      "cell_type": "code",
      "source": [
        "namesAB"
      ],
      "metadata": {
        "id": "QUFU2cgKdT_A",
        "outputId": "b2945461-6083-4696-e86f-502fea90413e",
        "colab": {
          "base_uri": "https://localhost:8080/"
        }
      },
      "execution_count": 21,
      "outputs": [
        {
          "output_type": "execute_result",
          "data": {
            "text/plain": [
              "4-element Vector{String}:\n",
              " \"m x Angus\"\n",
              " \"f x Angus\"\n",
              " \"f x Hereford\"\n",
              " \"m x Hereford\""
            ]
          },
          "metadata": {},
          "execution_count": 21
        }
      ]
    },
    {
      "cell_type": "code",
      "source": [
        "n = size(A,1)\n",
        "Matrix([ones(n,1) XA XB XAB])"
      ],
      "metadata": {
        "id": "CEW2uruWdWy6",
        "outputId": "9b15e8d0-0822-4a6c-ade6-18f2c7520358",
        "colab": {
          "base_uri": "https://localhost:8080/"
        }
      },
      "execution_count": 22,
      "outputs": [
        {
          "output_type": "execute_result",
          "data": {
            "text/plain": [
              "6×9 Matrix{Float64}:\n",
              " 1.0  1.0  0.0  1.0  0.0  1.0  0.0  0.0  0.0\n",
              " 1.0  0.0  1.0  1.0  0.0  0.0  1.0  0.0  0.0\n",
              " 1.0  0.0  1.0  0.0  1.0  0.0  0.0  1.0  0.0\n",
              " 1.0  1.0  0.0  0.0  1.0  0.0  0.0  0.0  1.0\n",
              " 1.0  0.0  1.0  1.0  0.0  0.0  1.0  0.0  0.0\n",
              " 1.0  0.0  1.0  1.0  0.0  0.0  1.0  0.0  0.0"
            ]
          },
          "metadata": {},
          "execution_count": 22
        }
      ]
    },
    {
      "cell_type": "code",
      "source": [
        "[\"intercept\"; namesA; namesB; namesAB]"
      ],
      "metadata": {
        "id": "bsuMLp9wdac5",
        "outputId": "8362b38d-87eb-411c-af6c-5b40347af050",
        "colab": {
          "base_uri": "https://localhost:8080/"
        }
      },
      "execution_count": 23,
      "outputs": [
        {
          "output_type": "execute_result",
          "data": {
            "text/plain": [
              "9-element Vector{String}:\n",
              " \"intercept\"\n",
              " \"m\"\n",
              " \"f\"\n",
              " \"Angus\"\n",
              " \"Hereford\"\n",
              " \"m x Angus\"\n",
              " \"f x Angus\"\n",
              " \"f x Hereford\"\n",
              " \"m x Hereford\""
            ]
          },
          "metadata": {},
          "execution_count": 23
        }
      ]
    },
    {
      "cell_type": "code",
      "source": [
        "BVal = df[:,:age]\n",
        "BStr = fill(\"age\",size(BVal,1))"
      ],
      "metadata": {
        "id": "ep3EXfOWdcoZ",
        "outputId": "116c0710-afec-4e16-ad37-da159c9c2418",
        "colab": {
          "base_uri": "https://localhost:8080/"
        }
      },
      "execution_count": 24,
      "outputs": [
        {
          "output_type": "execute_result",
          "data": {
            "text/plain": [
              "6-element Vector{String}:\n",
              " \"age\"\n",
              " \"age\"\n",
              " \"age\"\n",
              " \"age\"\n",
              " \"age\"\n",
              " \"age\""
            ]
          },
          "metadata": {},
          "execution_count": 24
        }
      ]
    },
    {
      "cell_type": "code",
      "source": [
        "AB = A.*\" x \".*BStr "
      ],
      "metadata": {
        "id": "j_pmDi89de6t",
        "outputId": "48714beb-e45d-4f20-c0e1-ba358d8bb6fd",
        "colab": {
          "base_uri": "https://localhost:8080/"
        }
      },
      "execution_count": 25,
      "outputs": [
        {
          "output_type": "execute_result",
          "data": {
            "text/plain": [
              "6-element Vector{String}:\n",
              " \"m x age\"\n",
              " \"f x age\"\n",
              " \"f x age\"\n",
              " \"m x age\"\n",
              " \"f x age\"\n",
              " \"f x age\""
            ]
          },
          "metadata": {},
          "execution_count": 25
        }
      ]
    },
    {
      "cell_type": "code",
      "source": [
        "dAB,namesAB   = mkDict(AB)\n",
        "ii    = 1:size(AB,1)\n",
        "jj   = [dAB[i] for i in AB]  #list comprehension \n",
        "XAB   = sparse(ii,jj,BVal)\n",
        "Matrix(XAB)"
      ],
      "metadata": {
        "id": "gVjcn_PQdhPr",
        "outputId": "a36c63aa-75f1-499b-8946-11924cf6b862",
        "colab": {
          "base_uri": "https://localhost:8080/"
        }
      },
      "execution_count": 26,
      "outputs": [
        {
          "output_type": "execute_result",
          "data": {
            "text/plain": [
              "6×2 Matrix{Int64}:\n",
              " 40   0\n",
              "  0  36\n",
              "  0  38\n",
              " 42   0\n",
              "  0  40\n",
              "  0  36"
            ]
          },
          "metadata": {},
          "execution_count": 26
        }
      ]
    },
    {
      "cell_type": "code",
      "source": [
        "Matrix([ones(n,1) XA XAB])"
      ],
      "metadata": {
        "id": "6UJTljUWdknl",
        "outputId": "fdf74944-93f3-427b-e203-e4603c42a2ca",
        "colab": {
          "base_uri": "https://localhost:8080/"
        }
      },
      "execution_count": 27,
      "outputs": [
        {
          "output_type": "execute_result",
          "data": {
            "text/plain": [
              "6×5 Matrix{Float64}:\n",
              " 1.0  1.0  0.0  40.0   0.0\n",
              " 1.0  0.0  1.0   0.0  36.0\n",
              " 1.0  0.0  1.0   0.0  38.0\n",
              " 1.0  1.0  0.0  42.0   0.0\n",
              " 1.0  0.0  1.0   0.0  40.0\n",
              " 1.0  0.0  1.0   0.0  36.0"
            ]
          },
          "metadata": {},
          "execution_count": 27
        }
      ]
    },
    {
      "cell_type": "code",
      "source": [
        "[\"intercept\"; namesA; namesAB]"
      ],
      "metadata": {
        "id": "iHFhfKrJdm4W",
        "outputId": "e1a1a1d6-3a0b-42b4-a2c5-03fda60b4a5c",
        "colab": {
          "base_uri": "https://localhost:8080/"
        }
      },
      "execution_count": 28,
      "outputs": [
        {
          "output_type": "execute_result",
          "data": {
            "text/plain": [
              "5-element Vector{String}:\n",
              " \"intercept\"\n",
              " \"m\"\n",
              " \"f\"\n",
              " \"m x age\"\n",
              " \"f x age\""
            ]
          },
          "metadata": {},
          "execution_count": 28
        }
      ]
    },
    {
      "cell_type": "code",
      "source": [
        "# Test code for qualitative factor\n",
        "factor = \"sex\"\n",
        "cov    = false\n",
        "data = df[:,Symbol(factor)]\n",
        "\n",
        "n = size(data,1)\n",
        "if cov==false\n",
        "    str = data\n",
        "    val = 1.0\n",
        "else \n",
        "    str = fill(factor,n)\n",
        "    val = data\n",
        "end\n",
        "\n",
        "dict,colNames   = mkDict(str)\n",
        "ii    = 1:n                    # row numbers \n",
        "jj   = [dict[i] for i in str]  # column numbers\n",
        "X    = sparse(ii,jj,val)\n",
        "Matrix(X)    "
      ],
      "metadata": {
        "id": "LAsk4IdGeqwW",
        "outputId": "31c36d62-cf7c-4ecf-f5dc-be2c60c76915",
        "colab": {
          "base_uri": "https://localhost:8080/"
        }
      },
      "execution_count": 29,
      "outputs": [
        {
          "output_type": "execute_result",
          "data": {
            "text/plain": [
              "6×2 Matrix{Float64}:\n",
              " 1.0  0.0\n",
              " 0.0  1.0\n",
              " 0.0  1.0\n",
              " 1.0  0.0\n",
              " 0.0  1.0\n",
              " 0.0  1.0"
            ]
          },
          "metadata": {},
          "execution_count": 29
        }
      ]
    },
    {
      "cell_type": "code",
      "source": [
        "# Test code for quantitative factor\n",
        "factor = \"age\"\n",
        "cov    = true\n",
        "\n",
        "data = df[:,Symbol(factor)]\n",
        "n = size(data,1)\n",
        "if cov==false\n",
        "    str = data\n",
        "    val = 1.0\n",
        "else \n",
        "    str = fill(factor,n)\n",
        "    val = data\n",
        "end\n",
        "\n",
        "dict,colNames   = mkDict(str)\n",
        "ii    = 1:n                    # row numbers \n",
        "jj   = [dict[i] for i in str]  # column numbers\n",
        "X    = sparse(ii,jj,val)\n",
        "Matrix(X)"
      ],
      "metadata": {
        "id": "O5MtUp26fBCp",
        "outputId": "1fe6ceb0-ec4f-44fe-8225-f0f2abf10f14",
        "colab": {
          "base_uri": "https://localhost:8080/"
        }
      },
      "execution_count": 30,
      "outputs": [
        {
          "output_type": "execute_result",
          "data": {
            "text/plain": [
              "6×1 Matrix{Int64}:\n",
              " 40\n",
              " 36\n",
              " 38\n",
              " 42\n",
              " 40\n",
              " 36"
            ]
          },
          "metadata": {},
          "execution_count": 30
        }
      ]
    },
    {
      "cell_type": "code",
      "source": [
        "function getX(factor,df;cov=false)\n",
        "    data = df[:,Symbol(factor)]\n",
        "    n = size(data,1)\n",
        "    if cov==false\n",
        "        str = data\n",
        "        val = 1.0\n",
        "    else \n",
        "        str = fill(factor,n)\n",
        "        val = data\n",
        "    end\n",
        "\n",
        "    dict,names   = mkDict(str)\n",
        "    ii    = 1:n                    # row numbers \n",
        "    jj   = [dict[i] for i in str]  # column numbers\n",
        "    X    = sparse(ii,jj,val)    \n",
        "end        "
      ],
      "metadata": {
        "id": "6Q3c-ONlfDvP",
        "outputId": "81ee24fb-ea1c-4396-bf73-4f07d7c05b5c",
        "colab": {
          "base_uri": "https://localhost:8080/"
        }
      },
      "execution_count": 31,
      "outputs": [
        {
          "output_type": "execute_result",
          "data": {
            "text/plain": [
              "getX (generic function with 1 method)"
            ]
          },
          "metadata": {},
          "execution_count": 31
        }
      ]
    },
    {
      "cell_type": "code",
      "source": [
        "function getX(factors,covs,df)\n",
        "    n = size(df,1)\n",
        "    if covs[1] == false\n",
        "        str = df[:,Symbol(factors[1])]\n",
        "        val = 1.0\n",
        "    else\n",
        "        str = fill(factors[1],n) \n",
        "        val = df[:,Symbol(factors[1])]    \n",
        "    end       \n",
        "\n",
        "    for i in 2:length(factors)\n",
        "        if covs[i] == false\n",
        "            str = str .*\" x \".*df[:,Symbol(factors[i])]\n",
        "            val = val .* 1.0 \n",
        "        else\n",
        "            str = str .*\" x \".*fill(factors[i],n) \n",
        "            val = val .* df[:,Symbol(factors[i])]    \n",
        "        end \n",
        "    end \n",
        "    dict,colNames   = mkDict(str)\n",
        "    ii    = 1:n                    # row numbers \n",
        "    jj   = [dict[i] for i in str]  # column numbers\n",
        "    X    = sparse(ii,jj,val)\n",
        "    return X,colNames        \n",
        "end            "
      ],
      "metadata": {
        "id": "rUq_xSnKfT7e",
        "outputId": "90774929-7c35-46cf-d73c-e35c25c9b3ee",
        "colab": {
          "base_uri": "https://localhost:8080/"
        }
      },
      "execution_count": 32,
      "outputs": [
        {
          "output_type": "execute_result",
          "data": {
            "text/plain": [
              "getX (generic function with 2 methods)"
            ]
          },
          "metadata": {},
          "execution_count": 32
        }
      ]
    },
    {
      "cell_type": "code",
      "source": [
        "factors = [\"sex\", \"breed\"]\n",
        "covs =[false, false]\n",
        "X,colNames = getX(factors,covs,df)\n",
        "Matrix(X)"
      ],
      "metadata": {
        "id": "l27Rne7sfXXT",
        "outputId": "303b0260-8917-4d24-fb6b-5f6b447daa41",
        "colab": {
          "base_uri": "https://localhost:8080/"
        }
      },
      "execution_count": 33,
      "outputs": [
        {
          "output_type": "execute_result",
          "data": {
            "text/plain": [
              "6×4 Matrix{Float64}:\n",
              " 1.0  0.0  0.0  0.0\n",
              " 0.0  1.0  0.0  0.0\n",
              " 0.0  0.0  1.0  0.0\n",
              " 0.0  0.0  0.0  1.0\n",
              " 0.0  1.0  0.0  0.0\n",
              " 0.0  1.0  0.0  0.0"
            ]
          },
          "metadata": {},
          "execution_count": 33
        }
      ]
    },
    {
      "cell_type": "code",
      "source": [
        "factors = [\"age\", \"age\"] #not a linear regression and this is not age interact with age; this is a quadratic curve, fitting a curve of age\n",
        "covs =[true, true]\n",
        "X,colNames = getX(factors,covs,df)\n",
        "Matrix(X)"
      ],
      "metadata": {
        "id": "pTjeZss5gwrd"
      },
      "execution_count": null,
      "outputs": []
    },
    {
      "cell_type": "code",
      "source": [
        "modelTerm   = \"sex * breed\"\n",
        "covariables = [\"age\"];"
      ],
      "metadata": {
        "id": "Vmruj1-viH4T"
      },
      "execution_count": 36,
      "outputs": []
    },
    {
      "cell_type": "code",
      "source": [
        "factors = strip.(split(modelTerm,\"*\"))"
      ],
      "metadata": {
        "id": "Y06f2n5ZiLV2",
        "outputId": "4fe1dcc4-d05b-41f1-af78-711fbf424b68",
        "colab": {
          "base_uri": "https://localhost:8080/"
        }
      },
      "execution_count": 37,
      "outputs": [
        {
          "output_type": "execute_result",
          "data": {
            "text/plain": [
              "2-element Vector{SubString{String}}:\n",
              " \"sex\"\n",
              " \"breed\""
            ]
          },
          "metadata": {},
          "execution_count": 37
        }
      ]
    },
    {
      "cell_type": "code",
      "source": [
        "covs = [i in covariables for i in factors]"
      ],
      "metadata": {
        "id": "DRs0xObqiOTJ",
        "outputId": "adbc01ac-7d72-4d0c-d3c8-26f06eb72c04",
        "colab": {
          "base_uri": "https://localhost:8080/"
        }
      },
      "execution_count": 38,
      "outputs": [
        {
          "output_type": "execute_result",
          "data": {
            "text/plain": [
              "2-element Vector{Bool}:\n",
              " 0\n",
              " 0"
            ]
          },
          "metadata": {},
          "execution_count": 38
        }
      ]
    },
    {
      "cell_type": "code",
      "source": [
        "function getX(modelTerm,covariables,df)\n",
        "    n = size(df,1)\n",
        "    if modelTerm == \"intercept\"\n",
        "        X = ones(n,1)\n",
        "        colNames = [\"intercept\"]\n",
        "        return X,colNames\n",
        "    end\n",
        "    factors = strip.(split(modelTerm,\"*\"))\n",
        "    covs = [i in covariables for i in factors]\n",
        "    \n",
        "    if covs[1] == false\n",
        "        str = string.(df[:,Symbol(factors[1])])\n",
        "        val = 1.0\n",
        "    else\n",
        "        str = fill(factors[1],n) \n",
        "        val = df[:,Symbol(factors[1])]    \n",
        "    end       \n",
        "\n",
        "    for i in 2:length(factors)\n",
        "        if covs[i] == false\n",
        "            str = str .*\" x \".*string.(df[:,Symbol(factors[i])])\n",
        "            val = val .* 1.0 \n",
        "        else\n",
        "            str = str .*\" x \".*fill(factors[i],n) \n",
        "            val = val .* df[:,Symbol(factors[i])]    \n",
        "        end \n",
        "    end \n",
        "    dict,colNames   = mkDict(str)\n",
        "    ii = 1:n                     # row numbers \n",
        "    jj = [dict[i] for i in str]  # column numbers\n",
        "    X  = sparse(ii,jj,val)\n",
        "    return X, strip(modelTerm)*\": \".*colNames   \n",
        "end"
      ],
      "metadata": {
        "id": "PW02iK0HiR2Q",
        "outputId": "6500d81f-a70a-46ad-e958-a3af694cc8f4",
        "colab": {
          "base_uri": "https://localhost:8080/"
        }
      },
      "execution_count": 39,
      "outputs": [
        {
          "output_type": "execute_result",
          "data": {
            "text/plain": [
              "getX (generic function with 2 methods)"
            ]
          },
          "metadata": {},
          "execution_count": 39
        }
      ]
    },
    {
      "cell_type": "code",
      "source": [
        "modelTerm   = \"sex * breed\"\n",
        "covariables = [\"age\"]\n",
        "X,colNames = getX(modelTerm,covariables,df)\n",
        "Matrix(X)"
      ],
      "metadata": {
        "id": "-S5_X4g-iU3P",
        "outputId": "03c61094-a9f3-40dc-c120-ea02dd3dd09b",
        "colab": {
          "base_uri": "https://localhost:8080/"
        }
      },
      "execution_count": 40,
      "outputs": [
        {
          "output_type": "execute_result",
          "data": {
            "text/plain": [
              "6×4 Matrix{Float64}:\n",
              " 1.0  0.0  0.0  0.0\n",
              " 0.0  1.0  0.0  0.0\n",
              " 0.0  0.0  1.0  0.0\n",
              " 0.0  0.0  0.0  1.0\n",
              " 0.0  1.0  0.0  0.0\n",
              " 0.0  1.0  0.0  0.0"
            ]
          },
          "metadata": {},
          "execution_count": 40
        }
      ]
    },
    {
      "cell_type": "code",
      "source": [
        "colNames"
      ],
      "metadata": {
        "id": "fvmZ5_MMiXjV",
        "outputId": "0a20ee2c-f971-432f-dace-b51063debbbf",
        "colab": {
          "base_uri": "https://localhost:8080/"
        }
      },
      "execution_count": 41,
      "outputs": [
        {
          "output_type": "execute_result",
          "data": {
            "text/plain": [
              "4-element Vector{String}:\n",
              " \"sex * breed: m x Angus\"\n",
              " \"sex * breed: f x Angus\"\n",
              " \"sex * breed: f x Hereford\"\n",
              " \"sex * breed: m x Hereford\""
            ]
          },
          "metadata": {},
          "execution_count": 41
        }
      ]
    },
    {
      "cell_type": "code",
      "source": [
        "modelTerm = \"breed*age\"\n",
        "X,colNames = getX(modelTerm,covariables,df)\n",
        "Matrix(X)"
      ],
      "metadata": {
        "id": "gE-feuImiZx0",
        "outputId": "b6aa9c07-c02e-4f29-b5a7-406045833598",
        "colab": {
          "base_uri": "https://localhost:8080/"
        }
      },
      "execution_count": 42,
      "outputs": [
        {
          "output_type": "execute_result",
          "data": {
            "text/plain": [
              "6×2 Matrix{Float64}:\n",
              " 40.0   0.0\n",
              " 36.0   0.0\n",
              "  0.0  38.0\n",
              "  0.0  42.0\n",
              " 40.0   0.0\n",
              " 36.0   0.0"
            ]
          },
          "metadata": {},
          "execution_count": 42
        }
      ]
    },
    {
      "cell_type": "code",
      "source": [
        "colNames"
      ],
      "metadata": {
        "id": "i6U8qujkicW7",
        "outputId": "c529248a-a6c8-49a6-ffae-febe8ea4148e",
        "colab": {
          "base_uri": "https://localhost:8080/"
        }
      },
      "execution_count": 43,
      "outputs": [
        {
          "output_type": "execute_result",
          "data": {
            "text/plain": [
              "2-element Vector{String}:\n",
              " \"breed*age: Angus x age\"\n",
              " \"breed*age: Hereford x age\""
            ]
          },
          "metadata": {},
          "execution_count": 43
        }
      ]
    },
    {
      "cell_type": "code",
      "source": [
        "modelTerm = \"sex\"\n",
        "X,colNames = getX(modelTerm,covariables,df)\n",
        "Matrix(X)"
      ],
      "metadata": {
        "id": "8yQEokNliebd",
        "outputId": "0e1d66a6-01c4-4eb9-a7ec-00d0e6c67b80",
        "colab": {
          "base_uri": "https://localhost:8080/"
        }
      },
      "execution_count": 44,
      "outputs": [
        {
          "output_type": "execute_result",
          "data": {
            "text/plain": [
              "6×2 Matrix{Float64}:\n",
              " 1.0  0.0\n",
              " 0.0  1.0\n",
              " 0.0  1.0\n",
              " 1.0  0.0\n",
              " 0.0  1.0\n",
              " 0.0  1.0"
            ]
          },
          "metadata": {},
          "execution_count": 44
        }
      ]
    },
    {
      "cell_type": "code",
      "source": [
        "modelTerm = \"intercept\"\n",
        "X,colNames = getX(modelTerm,covariables,df)\n",
        "Matrix(X)"
      ],
      "metadata": {
        "id": "zfxVzpFIihIn",
        "outputId": "001054bf-9043-405b-95f7-7b83cf574b11",
        "colab": {
          "base_uri": "https://localhost:8080/"
        }
      },
      "execution_count": 45,
      "outputs": [
        {
          "output_type": "execute_result",
          "data": {
            "text/plain": [
              "6×1 Matrix{Float64}:\n",
              " 1.0\n",
              " 1.0\n",
              " 1.0\n",
              " 1.0\n",
              " 1.0\n",
              " 1.0"
            ]
          },
          "metadata": {},
          "execution_count": 45
        }
      ]
    },
    {
      "cell_type": "code",
      "source": [
        "modelEq = \"y = intercept + sex + breed + sex*breed + age\""
      ],
      "metadata": {
        "id": "OvOtACGpikAw",
        "outputId": "18d22488-4740-42be-c8c2-b14783bb7c58",
        "colab": {
          "base_uri": "https://localhost:8080/"
        }
      },
      "execution_count": 46,
      "outputs": [
        {
          "output_type": "execute_result",
          "data": {
            "text/plain": [
              "\"y = intercept + sex + breed + sex*breed + age\""
            ]
          },
          "metadata": {},
          "execution_count": 46
        }
      ]
    },
    {
      "cell_type": "code",
      "source": [
        "modelParts = strip.(split(modelEq,\"=\"))"
      ],
      "metadata": {
        "id": "dJW6bT4niqVd",
        "outputId": "dfe67e21-a879-4949-c51f-5978f2fc6572",
        "colab": {
          "base_uri": "https://localhost:8080/"
        }
      },
      "execution_count": 47,
      "outputs": [
        {
          "output_type": "execute_result",
          "data": {
            "text/plain": [
              "2-element Vector{SubString{String}}:\n",
              " \"y\"\n",
              " \"intercept + sex + breed + sex*breed + age\""
            ]
          },
          "metadata": {},
          "execution_count": 47
        }
      ]
    },
    {
      "cell_type": "code",
      "source": [
        "depVar = modelParts[1]\n",
        "modelTerms = strip.(split(modelParts[2],\"+\"))"
      ],
      "metadata": {
        "id": "Qf2BJbJ7ivf4",
        "outputId": "d71cf8c8-3a46-4eb3-c009-f8a46d899360",
        "colab": {
          "base_uri": "https://localhost:8080/"
        }
      },
      "execution_count": 48,
      "outputs": [
        {
          "output_type": "execute_result",
          "data": {
            "text/plain": [
              "5-element Vector{SubString{String}}:\n",
              " \"intercept\"\n",
              " \"sex\"\n",
              " \"breed\"\n",
              " \"sex*breed\"\n",
              " \"age\""
            ]
          },
          "metadata": {},
          "execution_count": 48
        }
      ]
    },
    {
      "cell_type": "code",
      "source": [
        "X,colNames = getX(modelTerms[1],covariables,df)\n",
        "Matrix(X)"
      ],
      "metadata": {
        "id": "INCvubIqizp_",
        "outputId": "d3cc520f-a79e-48ee-8319-ce00bce7d522",
        "colab": {
          "base_uri": "https://localhost:8080/"
        }
      },
      "execution_count": 49,
      "outputs": [
        {
          "output_type": "execute_result",
          "data": {
            "text/plain": [
              "6×1 Matrix{Float64}:\n",
              " 1.0\n",
              " 1.0\n",
              " 1.0\n",
              " 1.0\n",
              " 1.0\n",
              " 1.0"
            ]
          },
          "metadata": {},
          "execution_count": 49
        }
      ]
    },
    {
      "cell_type": "code",
      "source": [
        "function getLhsRhs(modelEq,covariables,df)\n",
        "    modelParts = strip.(split(modelEq,\"=\"))\n",
        "    depVar = modelParts[1]\n",
        "    y = df[:,Symbol(depVar)]\n",
        "    modelTerms = strip.(split(modelParts[2],\"+\"))\n",
        "    X,colNames = getX(modelTerms[1],covariables,df)\n",
        "    for i = 2:size(modelTerms,1)\n",
        "        Xi,namesi = getX(modelTerms[i],covariables,df)\n",
        "        X = [X Xi]\n",
        "        colNames = [colNames; namesi]\n",
        "    end\n",
        "    return X'X,X'y,colNames\n",
        "end"
      ],
      "metadata": {
        "id": "4WKOj0LXi9PD",
        "outputId": "88f52907-272e-43f5-aec9-169097802ba2",
        "colab": {
          "base_uri": "https://localhost:8080/"
        }
      },
      "execution_count": 50,
      "outputs": [
        {
          "output_type": "execute_result",
          "data": {
            "text/plain": [
              "getLhsRhs (generic function with 1 method)"
            ]
          },
          "metadata": {},
          "execution_count": 50
        }
      ]
    },
    {
      "cell_type": "code",
      "source": [
        "lhs,rhs,colNames = getLhsRhs(modelEq,covariables,df) #df=dataframe \n",
        "#X'X=lhs (left hand side, the incident matrix, every x); rhs=X'Y\n",
        "[colNames Matrix(lhs) rhs]"
      ],
      "metadata": {
        "id": "H-p61fBFjBfs",
        "outputId": "a02a80e5-d398-4b48-a56a-8565fd330f48",
        "colab": {
          "base_uri": "https://localhost:8080/"
        }
      },
      "execution_count": 51,
      "outputs": [
        {
          "output_type": "execute_result",
          "data": {
            "text/plain": [
              "10×12 Matrix{Any}:\n",
              " \"intercept\"                  6.0  …    3.0   1.0   1.0   232.0    -4.933\n",
              " \"sex: m\"                     2.0       0.0   0.0   1.0    82.0    -2.4\n",
              " \"sex: f\"                     4.0       3.0   1.0   0.0   150.0    -2.533\n",
              " \"breed: Angus\"               4.0       3.0   0.0   0.0   152.0    -3.565\n",
              " \"breed: Hereford\"            2.0       0.0   1.0   1.0    80.0    -1.368\n",
              " \"sex*breed: m x Angus\"       1.0  …    0.0   0.0   0.0    40.0    -2.033\n",
              " \"sex*breed: f x Angus\"       3.0       3.0   0.0   0.0   112.0    -1.532\n",
              " \"sex*breed: f x Hereford\"    1.0       0.0   1.0   0.0    38.0    -1.001\n",
              " \"sex*breed: m x Hereford\"    1.0       0.0   0.0   1.0    42.0    -0.367\n",
              " \"age: age\"                 232.0     112.0  38.0  42.0  9000.0  -190.308"
            ]
          },
          "metadata": {},
          "execution_count": 51
        }
      ]
    },
    {
      "cell_type": "code",
      "source": [
        "QRLhs = qr(lhs) \n",
        "sol = QRLhs\\rhs"
      ],
      "metadata": {
        "id": "yzhrNN1Fj4p4",
        "outputId": "f07c23f7-b2ba-4018-ece2-6308c104b36e",
        "colab": {
          "base_uri": "https://localhost:8080/"
        }
      },
      "execution_count": 52,
      "outputs": [
        {
          "output_type": "execute_result",
          "data": {
            "text/plain": [
              "10-element Vector{Float64}:\n",
              " -6.909999999996091\n",
              "  0.012000000000411083\n",
              "  0.0\n",
              "  0.5939999999999267\n",
              "  0.0\n",
              " -1.9490000000001324\n",
              "  0.0\n",
              "  0.0\n",
              "  0.0\n",
              "  0.15549999999989733"
            ]
          },
          "metadata": {},
          "execution_count": 52
        }
      ]
    }
  ],
  "metadata": {
    "accelerator": "GPU",
    "colab": {
      "collapsed_sections": [],
      "name": "Aug2morning_PedigreeJWAS.ipynb",
      "provenance": [],
      "include_colab_link": true
    },
    "kernelspec": {
      "display_name": "Julia",
      "language": "julia",
      "name": "julia"
    },
    "language_info": {
      "file_extension": ".jl",
      "mimetype": "application/julia",
      "name": "julia"
    }
  },
  "nbformat": 4,
  "nbformat_minor": 0
}