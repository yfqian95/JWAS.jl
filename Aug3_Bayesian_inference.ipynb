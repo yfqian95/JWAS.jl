{
  "cells": [
    {
      "cell_type": "markdown",
      "metadata": {
        "id": "view-in-github",
        "colab_type": "text"
      },
      "source": [
        "<a href=\"https://colab.research.google.com/github/yfqian95/JWAS.jl/blob/master/Aug3_Bayesian_inference.ipynb\" target=\"_parent\"><img src=\"https://colab.research.google.com/assets/colab-badge.svg\" alt=\"Open In Colab\"/></a>"
      ]
    },
    {
      "cell_type": "code",
      "execution_count": null,
      "metadata": {
        "colab": {
          "base_uri": "https://localhost:8080/"
        },
        "id": "GIeFXS0F0zww",
        "outputId": "8a6fdd8b-85f4-4e30-fecd-d7d13527e691"
      },
      "outputs": [
        {
          "output_type": "stream",
          "name": "stdout",
          "text": [
            "Installing Julia 1.7.1 on the current Colab Runtime...\n",
            "2022-08-03 16:36:43 URL:https://storage.googleapis.com/julialang2/bin/linux/x64/1.7/julia-1.7.1-linux-x86_64.tar.gz [123374573/123374573] -> \"/tmp/julia.tar.gz\" [1]\n",
            "Installing Julia package IJulia...\n",
            "Installing Julia package CSV...\n",
            "Installing Julia package DataFrames...\n",
            "Installing Julia package Random...\n",
            "Installing Julia package Statistics...\n",
            "Installing Julia package Distributions...\n",
            "Installing Julia package LinearAlgebra...\n",
            "Installing Julia package SparseArrays...\n",
            "Installing Julia package Printf...\n",
            "Installing Julia package JWAS...\n"
          ]
        }
      ],
      "source": [
        "%%shell\n",
        "set -e\n",
        "\n",
        "#---------------------------------------------------#\n",
        "JULIA_VERSION=\"1.7.1\" # any version ≥ 0.7.0\n",
        "JULIA_PACKAGES=\"IJulia CSV DataFrames Random Statistics Distributions LinearAlgebra SparseArrays Printf JWAS\"  # CSV DataFrames Random Statistics JWAS Distributions LinearAlgebra\n",
        "JULIA_PACKAGES_IF_GPU=\"\"\n",
        "JULIA_NUM_THREADS=4\n",
        "#---------------------------------------------------#\n",
        "\n",
        "if [ -n \"$COLAB_GPU\" ] && [ -z `which julia` ]; then\n",
        "  # Install Julia\n",
        "  JULIA_VER=`cut -d '.' -f -2 <<< \"$JULIA_VERSION\"`\n",
        "  echo \"Installing Julia $JULIA_VERSION on the current Colab Runtime...\"\n",
        "  BASE_URL=\"https://julialang-s3.julialang.org/bin/linux/x64\"\n",
        "  URL=\"$BASE_URL/$JULIA_VER/julia-$JULIA_VERSION-linux-x86_64.tar.gz\"\n",
        "  wget -nv $URL -O /tmp/julia.tar.gz # -nv means \"not verbose\"\n",
        "  tar -x -f /tmp/julia.tar.gz -C /usr/local --strip-components 1\n",
        "  rm /tmp/julia.tar.gz\n",
        "\n",
        "  # Install Packages\n",
        "  if [ \"$COLAB_GPU\" = \"1\" ]; then\n",
        "      JULIA_PACKAGES=\"$JULIA_PACKAGES $JULIA_PACKAGES_IF_GPU\"\n",
        "  fi\n",
        "  for PKG in `echo $JULIA_PACKAGES`; do\n",
        "    echo \"Installing Julia package $PKG...\"\n",
        "    julia -e 'using Pkg; pkg\"add '$PKG'; precompile;\"' &> /dev/null\n",
        "  done\n",
        "\n",
        "  # Install kernel and rename it to \"julia\"\n",
        "  echo \"Installing IJulia kernel...\"\n",
        "  julia -e 'using IJulia; IJulia.installkernel(\"julia\", env=Dict(\n",
        "      \"JULIA_NUM_THREADS\"=>\"'\"$JULIA_NUM_THREADS\"'\"))'\n",
        "  KERNEL_DIR=`julia -e \"using IJulia; print(IJulia.kerneldir())\"`\n",
        "  KERNEL_NAME=`ls -d \"$KERNEL_DIR\"/julia*`\n",
        "  mv -f $KERNEL_NAME \"$KERNEL_DIR\"/julia  \n",
        "\n",
        "  echo ''\n",
        "  echo \"Successfully installed `julia -v`!\"\n",
        "  echo \"Please reload this page (press Ctrl+R, ⌘+R, or the F5 key) then\"\n",
        "  echo \"jump to the 'Checking the Installation' section.\"\n",
        "fi"
      ]
    },
    {
      "cell_type": "code",
      "execution_count": 1,
      "metadata": {
        "colab": {
          "base_uri": "https://localhost:8080/"
        },
        "id": "EEzvvzCl1i0F",
        "outputId": "bdfd17d2-81f7-4f1c-b7dd-748ff56e24a1"
      },
      "outputs": [
        {
          "output_type": "stream",
          "name": "stdout",
          "text": [
            "Julia Version 1.7.1\n",
            "Commit ac5cc99908 (2021-12-22 19:35 UTC)\n",
            "Platform Info:\n",
            "  OS: Linux (x86_64-pc-linux-gnu)\n",
            "  CPU: Intel(R) Xeon(R) CPU @ 2.20GHz\n",
            "  WORD_SIZE: 64\n",
            "  LIBM: libopenlibm\n",
            "  LLVM: libLLVM-12.0.1 (ORCJIT, broadwell)\n",
            "Environment:\n",
            "  JULIA_NUM_THREADS = 4\n"
          ]
        }
      ],
      "source": [
        "versioninfo()"
      ]
    },
    {
      "cell_type": "code",
      "source": [
        "using Pkg\n",
        "Pkg.add(\"Plots\")\n",
        "using Plots,Statistics,DataFrames, Random"
      ],
      "metadata": {
        "id": "PjHSlvZDmiNc"
      },
      "execution_count": 6,
      "outputs": []
    },
    {
      "cell_type": "code",
      "source": [
        "Random.seed!(123)\n",
        "mean_male   = 170\n",
        "sd_male     = 5\n",
        "mean_female = 159\n",
        "sd_female   = 5\n",
        "nind_male   = 1200\n",
        "nind_female = 800\n",
        "males       = mean_male .+ randn(nind_male)*sd_male\n",
        "females     = mean_female .+ randn(nind_female)*sd_female\n",
        "data=[convert.(Int,round.(males))  fill(\"male\",nind_male)\n",
        "      convert.(Int,round.(females)) fill(\"female\",nind_female)];\n",
        "data = DataFrame(height=data[:,1],gender=data[:,2])\n",
        "first(data,5)"
      ],
      "metadata": {
        "colab": {
          "base_uri": "https://localhost:8080/",
          "height": 195
        },
        "id": "VFwTHiosnXxR",
        "outputId": "ccdd1a81-eb63-4717-f044-1efbb9d66197"
      },
      "execution_count": 7,
      "outputs": [
        {
          "output_type": "execute_result",
          "data": {
            "text/plain": [
              "\u001b[1m5×2 DataFrame\u001b[0m\n",
              "\u001b[1m Row \u001b[0m│\u001b[1m height \u001b[0m\u001b[1m gender \u001b[0m\n",
              "\u001b[1m     \u001b[0m│\u001b[90m Any    \u001b[0m\u001b[90m Any    \u001b[0m\n",
              "─────┼────────────────\n",
              "   1 │ 174     male\n",
              "   2 │ 164     male\n",
              "   3 │ 164     male\n",
              "   4 │ 168     male\n",
              "   5 │ 171     male"
            ],
            "text/html": [
              "<table class=\"data-frame\"><thead><tr><th></th><th>height</th><th>gender</th></tr><tr><th></th><th>Any</th><th>Any</th></tr></thead><tbody><p>5 rows × 2 columns</p><tr><th>1</th><td>174</td><td>male</td></tr><tr><th>2</th><td>164</td><td>male</td></tr><tr><th>3</th><td>164</td><td>male</td></tr><tr><th>4</th><td>168</td><td>male</td></tr><tr><th>5</th><td>171</td><td>male</td></tr></tbody></table>"
            ],
            "text/latex": "\\begin{tabular}{r|cc}\n\t& height & gender\\\\\n\t\\hline\n\t& Any & Any\\\\\n\t\\hline\n\t1 & 174 & male \\\\\n\t2 & 164 & male \\\\\n\t3 & 164 & male \\\\\n\t4 & 168 & male \\\\\n\t5 & 171 & male \\\\\n\\end{tabular}\n"
          },
          "metadata": {},
          "execution_count": 7
        }
      ]
    },
    {
      "cell_type": "code",
      "source": [
        "plot(data[data[!,:gender].==\"male\",:height],seriestype=:histogram,xlabel=:height,legend=:none) \n",
        "plot!(data[data[!,:gender].==\"female\",:height],seriestype=:histogram) "
      ],
      "metadata": {
        "id": "cI-6csHina7p"
      },
      "execution_count": null,
      "outputs": []
    },
    {
      "cell_type": "code",
      "source": [
        "using Distributions\n",
        "μ = [1.0;2.0]\n",
        "V = [1.0 0.5;0.5 2.0] #V is variance for each variable\n",
        "\n",
        "x     = [0.0;0.0] #initial value\n",
        "niter = 50000 #number of iteration\n",
        "c     = 0 #number of times that the condition happens \n",
        "\n",
        "for i in 1:niter\n",
        "    mean12 = μ[1]+V[1,2]/V[2,2]*(x[2]-μ[2])\n",
        "    var12  = V[1,1]-V[1,2]^2/V[2,2]\n",
        "    \n",
        "    x[1] = mean12+randn()*sqrt(var12)\n",
        "    \n",
        "    mean21 = μ[2]+V[2,1]/V[1,1]*(x[1]-μ[1])\n",
        "    var21  = V[2,2]-V[2,1]^2/V[1,1]\n",
        "    \n",
        "    x[2] = mean21+randn()*sqrt(var21)\n",
        "    \n",
        "    if x[1] > 1 && x[2] > 2\n",
        "        c += 1\n",
        "    end\n",
        "end\n",
        "\n",
        "c/niter"
      ],
      "metadata": {
        "colab": {
          "base_uri": "https://localhost:8080/"
        },
        "id": "4gEANOn-mmkp",
        "outputId": "f855c882-7814-4c3a-e982-038353623fe0"
      },
      "execution_count": 9,
      "outputs": [
        {
          "output_type": "execute_result",
          "data": {
            "text/plain": [
              "0.3087"
            ]
          },
          "metadata": {},
          "execution_count": 9
        }
      ]
    },
    {
      "cell_type": "code",
      "source": [
        "using Distributions\n",
        "μ = [1;2]\n",
        "V = [1.0 0.5;0.5 2.0]\n",
        "\n",
        "x     = [0;0]\n",
        "niter = 50000\n",
        "c     = 0\n",
        "\n",
        "for i in 1:niter\n",
        "    x = rand(MvNormal(μ, V))\n",
        "    if x[1] > 1 && x[2] > 2\n",
        "        c += 1\n",
        "    end\n",
        "end\n",
        "\n",
        "c/niter"
      ],
      "metadata": {
        "colab": {
          "base_uri": "https://localhost:8080/"
        },
        "id": "t2yxhImwu7Z_",
        "outputId": "a202b4a9-545d-4ae0-a113-8a316256bb3f"
      },
      "execution_count": 10,
      "outputs": [
        {
          "output_type": "execute_result",
          "data": {
            "text/plain": [
              "0.30886"
            ]
          },
          "metadata": {},
          "execution_count": 10
        }
      ]
    }
  ],
  "metadata": {
    "accelerator": "GPU",
    "colab": {
      "collapsed_sections": [],
      "name": "Aug3_Bayesian_inference.ipynb",
      "provenance": [],
      "include_colab_link": true
    },
    "kernelspec": {
      "display_name": "Julia",
      "language": "julia",
      "name": "julia"
    },
    "language_info": {
      "file_extension": ".jl",
      "mimetype": "application/julia",
      "name": "julia"
    }
  },
  "nbformat": 4,
  "nbformat_minor": 0
}